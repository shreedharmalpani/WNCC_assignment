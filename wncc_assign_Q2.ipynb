{
  "nbformat": 4,
  "nbformat_minor": 0,
  "metadata": {
    "colab": {
      "name": "wncc_assign_Q2.ipynb",
      "provenance": [],
      "collapsed_sections": [],
      "authorship_tag": "ABX9TyMLsqDhV46gQqPQPWc6MOlV",
      "include_colab_link": true
    },
    "kernelspec": {
      "name": "python3",
      "display_name": "Python 3"
    },
    "language_info": {
      "name": "python"
    }
  },
  "cells": [
    {
      "cell_type": "markdown",
      "metadata": {
        "id": "view-in-github",
        "colab_type": "text"
      },
      "source": [
        "<a href=\"https://colab.research.google.com/github/shreedharmalpani/WNCC_assignment/blob/main/wncc_assign_Q2.ipynb\" target=\"_parent\"><img src=\"https://colab.research.google.com/assets/colab-badge.svg\" alt=\"Open In Colab\"/></a>"
      ]
    },
    {
      "cell_type": "code",
      "metadata": {
        "colab": {
          "base_uri": "https://localhost:8080/"
        },
        "id": "SNCvHhqresw6",
        "outputId": "6ee5e0e6-35ad-4f4a-f968-2434d534f7a4"
      },
      "source": [
        "!pip install beautifulsoup4\n",
        "from bs4 import BeautifulSoup as bs\n",
        "import pandas as pd\n",
        "from google.colab import files"
      ],
      "execution_count": 1,
      "outputs": [
        {
          "output_type": "stream",
          "text": [
            "Requirement already satisfied: beautifulsoup4 in /usr/local/lib/python3.7/dist-packages (4.6.3)\n"
          ],
          "name": "stdout"
        }
      ]
    },
    {
      "cell_type": "code",
      "metadata": {
        "colab": {
          "base_uri": "https://localhost:8080/"
        },
        "id": "X4GbkI4ietvp",
        "outputId": "98c7c2cd-3f59-4654-b6d2-187c9bb58e48"
      },
      "source": [
        "!pip install requests \n",
        "import requests\n",
        "res= requests.get(\"https://www.grainmart.in/news/covid-19-coronavirus-india-state-and-district-wise-tally/\")\n",
        "soup= bs(res.content)"
      ],
      "execution_count": 2,
      "outputs": [
        {
          "output_type": "stream",
          "text": [
            "Requirement already satisfied: requests in /usr/local/lib/python3.7/dist-packages (2.23.0)\n",
            "Requirement already satisfied: idna<3,>=2.5 in /usr/local/lib/python3.7/dist-packages (from requests) (2.10)\n",
            "Requirement already satisfied: chardet<4,>=3.0.2 in /usr/local/lib/python3.7/dist-packages (from requests) (3.0.4)\n",
            "Requirement already satisfied: urllib3!=1.25.0,!=1.25.1,<1.26,>=1.21.1 in /usr/local/lib/python3.7/dist-packages (from requests) (1.24.3)\n",
            "Requirement already satisfied: certifi>=2017.4.17 in /usr/local/lib/python3.7/dist-packages (from requests) (2020.12.5)\n"
          ],
          "name": "stdout"
        }
      ]
    },
    {
      "cell_type": "code",
      "metadata": {
        "colab": {
          "base_uri": "https://localhost:8080/",
          "height": 34
        },
        "id": "AfXFQx22ewek",
        "outputId": "75c42859-0502-4f3d-9768-d1062feff49c"
      },
      "source": [
        "states_list= soup.find_all('div', class_='skgm-states')\n",
        "\n",
        "a={}\n",
        "b={}\n",
        "count=0\n",
        "flag= False\n",
        "search_state= input(\"Enter the state : \")\n",
        "\n",
        "for states in states_list:\n",
        "  state= states.find('span',class_='show-district').text\n",
        "  total_cases= getattr(states.find('div',class_='td-sc'), 'text', None)\n",
        "\n",
        "  if(search_state.lower()==state.lower()):\n",
        "\n",
        "    flag=True\n",
        "    districts_list= states.find_all('div',class_='skgm-tr')\n",
        "    counter=0\n",
        "    \n",
        "    for districts in districts_list:\n",
        "      district=districts.find('div',class_='skgm-td').text\n",
        "      if counter!=0:\n",
        "        total_cases_districts = getattr(districts.find('div',class_='td-dc'), 'text', None)\n",
        "        a[counter]=district\n",
        "        b[counter]=total_cases_districts\n",
        "\n",
        "      counter+=1  \n",
        "      count=counter\n",
        "\n",
        "  if flag== True:\n",
        "    break\n",
        "\n",
        "if flag==False:\n",
        "  print(\"Either this state doesn't exist or your spelling is wrong \")\n",
        "\n",
        "else:\n",
        "  data = {f'Districts in {search_state}': a, ' Total Cases Reported': b}\n",
        "  df = pd.DataFrame(data, index = [i for i in range(1,count)])\n",
        "  df.to_csv(f'wncc_{search_state}.csv') \n",
        "  files.download(f'wncc_{search_state}.csv')\n",
        "\n"
      ],
      "execution_count": 7,
      "outputs": [
        {
          "output_type": "stream",
          "text": [
            "Enter the state : maharashtra\n"
          ],
          "name": "stdout"
        },
        {
          "output_type": "display_data",
          "data": {
            "application/javascript": [
              "\n",
              "    async function download(id, filename, size) {\n",
              "      if (!google.colab.kernel.accessAllowed) {\n",
              "        return;\n",
              "      }\n",
              "      const div = document.createElement('div');\n",
              "      const label = document.createElement('label');\n",
              "      label.textContent = `Downloading \"${filename}\": `;\n",
              "      div.appendChild(label);\n",
              "      const progress = document.createElement('progress');\n",
              "      progress.max = size;\n",
              "      div.appendChild(progress);\n",
              "      document.body.appendChild(div);\n",
              "\n",
              "      const buffers = [];\n",
              "      let downloaded = 0;\n",
              "\n",
              "      const channel = await google.colab.kernel.comms.open(id);\n",
              "      // Send a message to notify the kernel that we're ready.\n",
              "      channel.send({})\n",
              "\n",
              "      for await (const message of channel.messages) {\n",
              "        // Send a message to notify the kernel that we're ready.\n",
              "        channel.send({})\n",
              "        if (message.buffers) {\n",
              "          for (const buffer of message.buffers) {\n",
              "            buffers.push(buffer);\n",
              "            downloaded += buffer.byteLength;\n",
              "            progress.value = downloaded;\n",
              "          }\n",
              "        }\n",
              "      }\n",
              "      const blob = new Blob(buffers, {type: 'application/binary'});\n",
              "      const a = document.createElement('a');\n",
              "      a.href = window.URL.createObjectURL(blob);\n",
              "      a.download = filename;\n",
              "      div.appendChild(a);\n",
              "      a.click();\n",
              "      div.remove();\n",
              "    }\n",
              "  "
            ],
            "text/plain": [
              "<IPython.core.display.Javascript object>"
            ]
          },
          "metadata": {
            "tags": []
          }
        },
        {
          "output_type": "display_data",
          "data": {
            "application/javascript": [
              "download(\"download_6956345a-9c2e-48f2-b935-fc53b8400ca8\", \"wncc_maharashtra.csv\", 688)"
            ],
            "text/plain": [
              "<IPython.core.display.Javascript object>"
            ]
          },
          "metadata": {
            "tags": []
          }
        }
      ]
    }
  ]
}