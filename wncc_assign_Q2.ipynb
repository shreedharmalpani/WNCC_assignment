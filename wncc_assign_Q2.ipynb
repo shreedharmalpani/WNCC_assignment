{
  "nbformat": 4,
  "nbformat_minor": 0,
  "metadata": {
    "colab": {
      "name": "wncc_assign_Q2.ipynb",
      "provenance": [],
      "collapsed_sections": [],
      "authorship_tag": "ABX9TyOcSW4WA/iS8V3qUw3JDWyJ",
      "include_colab_link": true
    },
    "kernelspec": {
      "name": "python3",
      "display_name": "Python 3"
    },
    "language_info": {
      "name": "python"
    }
  },
  "cells": [
    {
      "cell_type": "markdown",
      "metadata": {
        "id": "view-in-github",
        "colab_type": "text"
      },
      "source": [
        "<a href=\"https://colab.research.google.com/github/shreedharmalpani/WNCC_assignment/blob/main/wncc_assign_Q2.ipynb\" target=\"_parent\"><img src=\"https://colab.research.google.com/assets/colab-badge.svg\" alt=\"Open In Colab\"/></a>"
      ]
    },
    {
      "cell_type": "code",
      "metadata": {
        "colab": {
          "base_uri": "https://localhost:8080/"
        },
        "id": "SNCvHhqresw6",
        "outputId": "4912a41a-3d53-456f-87d8-3417e5aef177"
      },
      "source": [
        "!pip install beautifulsoup4\n",
        "from bs4 import BeautifulSoup as bs\n",
        "import pandas as pd\n",
        "from google.colab import files"
      ],
      "execution_count": 1,
      "outputs": [
        {
          "output_type": "stream",
          "text": [
            "Requirement already satisfied: beautifulsoup4 in /usr/local/lib/python3.7/dist-packages (4.6.3)\n"
          ],
          "name": "stdout"
        }
      ]
    },
    {
      "cell_type": "code",
      "metadata": {
        "colab": {
          "base_uri": "https://localhost:8080/"
        },
        "id": "X4GbkI4ietvp",
        "outputId": "889829b2-17e8-4531-b2a1-0b28df7969d2"
      },
      "source": [
        "!pip install requests \n",
        "import requests\n",
        "res= requests.get(\"https://www.grainmart.in/news/covid-19-coronavirus-india-state-and-district-wise-tally/\") #website from which i chose to scrape the data\n",
        "soup= bs(res.content)"
      ],
      "execution_count": 2,
      "outputs": [
        {
          "output_type": "stream",
          "text": [
            "Requirement already satisfied: requests in /usr/local/lib/python3.7/dist-packages (2.23.0)\n",
            "Requirement already satisfied: certifi>=2017.4.17 in /usr/local/lib/python3.7/dist-packages (from requests) (2020.12.5)\n",
            "Requirement already satisfied: urllib3!=1.25.0,!=1.25.1,<1.26,>=1.21.1 in /usr/local/lib/python3.7/dist-packages (from requests) (1.24.3)\n",
            "Requirement already satisfied: chardet<4,>=3.0.2 in /usr/local/lib/python3.7/dist-packages (from requests) (3.0.4)\n",
            "Requirement already satisfied: idna<3,>=2.5 in /usr/local/lib/python3.7/dist-packages (from requests) (2.10)\n"
          ],
          "name": "stdout"
        }
      ]
    },
    {
      "cell_type": "code",
      "metadata": {
        "colab": {
          "base_uri": "https://localhost:8080/",
          "height": 34
        },
        "id": "AfXFQx22ewek",
        "outputId": "686d605a-62ea-422d-b004-a3099a42cc91"
      },
      "source": [
        "states_list= soup.find_all('div', class_='skgm-states') #to store the data corresponding to the tags(to find the state related information)\n",
        "\n",
        "a={} #list to store the districts in the state\n",
        "b={} #list to store the cases in that district\n",
        "counter=0 #to store the no. of districts in the state\n",
        "flag= False\n",
        "search_state= input(\"Enter the state : \")\n",
        "\n",
        "for states in states_list:\n",
        "  state= states.find('span',class_='show-district').text\n",
        "  total_cases= getattr(states.find('div',class_='td-sc'), 'text', None) #using getattr as find().text doesnt work for Nonetype data\n",
        "\n",
        "  if(search_state.lower()==state.lower()):\n",
        "\n",
        "    flag=True\n",
        "    districts_list= states.find_all('div',class_='skgm-tr') #to store the data corresponding to the tags(to find the district related information)\n",
        "    \n",
        "    \n",
        "    for districts in districts_list:\n",
        "      district=districts.find('div',class_='skgm-td').text\n",
        "      if counter!=0:\n",
        "        total_cases_districts = getattr(districts.find('div',class_='td-dc'), 'text', None) #getting the no. of cases in a particular district\n",
        "        a[counter]=district\n",
        "        b[counter]=total_cases_districts\n",
        "\n",
        "      counter+=1  \n",
        "\n",
        "  if flag== True:\n",
        "    break\n",
        "\n",
        "if flag==False:\n",
        "  print(\"Either this state doesn't exist or your spelling is wrong \")   #error message\n",
        "\n",
        "else:\n",
        "  data = {f'Districts in {search_state}': a, ' Total Cases Reported': b} \n",
        "  df = pd.DataFrame(data, index = [i for i in range(1,counter)]) #convert the data into data frame\n",
        "  df.to_csv(f'wncc_{search_state}.csv') #tranferring the information of a data frame into a csv file\n",
        "  files.download(f'wncc_{search_state}.csv') #download the csv file on the desktop\n",
        "\n"
      ],
      "execution_count": 6,
      "outputs": [
        {
          "output_type": "stream",
          "text": [
            "Enter the state : uttar pradesh\n"
          ],
          "name": "stdout"
        },
        {
          "output_type": "display_data",
          "data": {
            "application/javascript": [
              "\n",
              "    async function download(id, filename, size) {\n",
              "      if (!google.colab.kernel.accessAllowed) {\n",
              "        return;\n",
              "      }\n",
              "      const div = document.createElement('div');\n",
              "      const label = document.createElement('label');\n",
              "      label.textContent = `Downloading \"${filename}\": `;\n",
              "      div.appendChild(label);\n",
              "      const progress = document.createElement('progress');\n",
              "      progress.max = size;\n",
              "      div.appendChild(progress);\n",
              "      document.body.appendChild(div);\n",
              "\n",
              "      const buffers = [];\n",
              "      let downloaded = 0;\n",
              "\n",
              "      const channel = await google.colab.kernel.comms.open(id);\n",
              "      // Send a message to notify the kernel that we're ready.\n",
              "      channel.send({})\n",
              "\n",
              "      for await (const message of channel.messages) {\n",
              "        // Send a message to notify the kernel that we're ready.\n",
              "        channel.send({})\n",
              "        if (message.buffers) {\n",
              "          for (const buffer of message.buffers) {\n",
              "            buffers.push(buffer);\n",
              "            downloaded += buffer.byteLength;\n",
              "            progress.value = downloaded;\n",
              "          }\n",
              "        }\n",
              "      }\n",
              "      const blob = new Blob(buffers, {type: 'application/binary'});\n",
              "      const a = document.createElement('a');\n",
              "      a.href = window.URL.createObjectURL(blob);\n",
              "      a.download = filename;\n",
              "      div.appendChild(a);\n",
              "      a.click();\n",
              "      div.remove();\n",
              "    }\n",
              "  "
            ],
            "text/plain": [
              "<IPython.core.display.Javascript object>"
            ]
          },
          "metadata": {
            "tags": []
          }
        },
        {
          "output_type": "display_data",
          "data": {
            "application/javascript": [
              "download(\"download_7566511b-da3e-4c32-8887-0c65b340c3aa\", \"wncc_uttar pradesh.csv\", 1385)"
            ],
            "text/plain": [
              "<IPython.core.display.Javascript object>"
            ]
          },
          "metadata": {
            "tags": []
          }
        }
      ]
    }
  ]
}